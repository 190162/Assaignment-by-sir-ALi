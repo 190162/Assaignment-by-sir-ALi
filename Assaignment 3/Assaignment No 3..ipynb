{
 "cells": [
  {
   "cell_type": "code",
   "execution_count": 1,
   "id": "c7a0c63f",
   "metadata": {},
   "outputs": [
    {
     "name": "stdout",
     "output_type": "stream",
     "text": [
      "Twinkle twinkle little star\n",
      "          How are wounder what you are\n",
      "                Up above the world so high\n",
      "                  LIke a diamond in the sky\n",
      " Twinkle twinkle little star\n",
      "          How are wounder what you are\n"
     ]
    }
   ],
   "source": [
    "print (\"Twinkle twinkle little star\");\n",
    "print (\"          How are wounder what you are\");\n",
    "print (\"                Up above the world so high\");\n",
    "print(\"                  LIke a diamond in the sky\");\n",
    "print(\" Twinkle twinkle little star\");\n",
    "print (\"          How are wounder what you are\");"
   ]
  },
  {
   "cell_type": "code",
   "execution_count": 2,
   "id": "15565ff4",
   "metadata": {},
   "outputs": [
    {
     "name": "stdout",
     "output_type": "stream",
     "text": [
      "Python version\n",
      "3.8.8 (default, Apr 13 2021, 15:08:03) [MSC v.1916 64 bit (AMD64)]\n",
      "Version info.\n",
      "sys.version_info(major=3, minor=8, micro=8, releaselevel='final', serial=0)\n"
     ]
    }
   ],
   "source": [
    "import sys\n",
    "print(\"Python version\")\n",
    "print (sys.version)\n",
    "print(\"Version info.\")\n",
    "print (sys.version_info)"
   ]
  },
  {
   "cell_type": "code",
   "execution_count": 3,
   "id": "0ccdc3a8",
   "metadata": {},
   "outputs": [
    {
     "name": "stdout",
     "output_type": "stream",
     "text": [
      "Current date and time : \n",
      "2021-10-24 09:22:51\n"
     ]
    }
   ],
   "source": [
    "import datetime\n",
    "now = datetime.datetime.now()\n",
    "print (\"Current date and time : \")\n",
    "print (now.strftime(\"%Y-%m-%d %H:%M:%S\"))"
   ]
  },
  {
   "cell_type": "code",
   "execution_count": 4,
   "id": "63ea3c9a",
   "metadata": {},
   "outputs": [
    {
     "name": "stdout",
     "output_type": "stream",
     "text": [
      "Input the radius of the circle : 45\n",
      "The area of the circle with radius 45.0 is: 6361.725123519331\n"
     ]
    }
   ],
   "source": [
    "from math import pi\n",
    "r = float(input (\"Input the radius of the circle : \"))\n",
    "print (\"The area of the circle with radius \" + str(r) + \" is: \" + str(pi * r**2))"
   ]
  },
  {
   "cell_type": "code",
   "execution_count": 5,
   "id": "3f3cf690",
   "metadata": {},
   "outputs": [
    {
     "name": "stdout",
     "output_type": "stream",
     "text": [
      "Input your First Name : tariq\n",
      "Input your Last Name : bilal\n",
      "Hello  bilal  tariq\n"
     ]
    }
   ],
   "source": [
    "fname = input(\"Input your First Name : \")\n",
    "lname = input(\"Input your Last Name : \")\n",
    "print (\"Hello  \" + lname + \"  \" + fname)"
   ]
  },
  {
   "cell_type": "code",
   "execution_count": 6,
   "id": "b2d17102",
   "metadata": {},
   "outputs": [
    {
     "name": "stdout",
     "output_type": "stream",
     "text": [
      "Input first integer:\n",
      "98\n",
      "Input second integer:\n",
      "67\n",
      "Sum of the two integers:  165\n"
     ]
    }
   ],
   "source": [
    "print(\"Input first integer:\")\n",
    "x = int(input())\n",
    "print(\"Input second integer:\")\n",
    "y = int(input())\n",
    "if x >= 10 ** 80 or y >= 10 ** 80 or x + y >= 10 ** 80:\n",
    "    print(\"Overflow!\")\n",
    "else:\n",
    "    print(\"Sum of the two integers: \",x + y)"
   ]
  },
  {
   "cell_type": "code",
   "execution_count": 7,
   "id": "43ea160b",
   "metadata": {},
   "outputs": [
    {
     "name": "stdout",
     "output_type": "stream",
     "text": [
      " print maths marks:\n",
      "99\n",
      "print phys marks :\n",
      "56\n",
      " print chem marks:\n",
      "77\n",
      "print bilology marks :\n",
      "67\n",
      "print urdu  marks :\n",
      "89\n",
      "Grade B\n"
     ]
    }
   ],
   "source": [
    "print(\" print maths marks:\")\n",
    "a = int(input())\n",
    "print(\"print phys marks :\")\n",
    "b = int(input())\n",
    "print(\" print chem marks:\")\n",
    "c = int(input())\n",
    "print(\"print bilology marks :\")\n",
    "d = int(input())\n",
    "print(\"print urdu  marks :\")\n",
    "e = int(input())\n",
    "total  = 500; \n",
    "percent = (a+b+c+d+e)/total *100;\n",
    "if percent < 100 and percent >= 80:\n",
    "    print (\"Grade A\");\n",
    "elif percent < 80 and percent >= 70:\n",
    "    print (\"Grade B\");\n",
    "elif percent < 70 and percent >= 60:\n",
    "    print (\"Grade C\");\n",
    "elif percent < 60 and percent >= 50:\n",
    "    print (\"grade D\");\n",
    "else:\n",
    "    print (\"You are Fail\");"
   ]
  },
  {
   "cell_type": "code",
   "execution_count": 8,
   "id": "502b2147",
   "metadata": {},
   "outputs": [
    {
     "name": "stdout",
     "output_type": "stream",
     "text": [
      "Enter your number78\n",
      "is even number\n"
     ]
    }
   ],
   "source": [
    "X = int(input(\"Enter your number\"));\n",
    "if X%2==0: \n",
    "    print ( \"is even number\");\n",
    "else:\n",
    "    print (\"is Odd numbr\")"
   ]
  },
  {
   "cell_type": "code",
   "execution_count": 9,
   "id": "7404c8ae",
   "metadata": {},
   "outputs": [
    {
     "name": "stdout",
     "output_type": "stream",
     "text": [
      "6\n"
     ]
    }
   ],
   "source": [
    "fruits = (\"apple\", \"banana\", \"cherry\",\"mango\",\"watermellon\",\"strawberry\")\n",
    "print(len(fruits))"
   ]
  },
  {
   "cell_type": "code",
   "execution_count": 10,
   "id": "4e26dc9f",
   "metadata": {},
   "outputs": [
    {
     "name": "stdout",
     "output_type": "stream",
     "text": [
      "108\n"
     ]
    }
   ],
   "source": [
    "def sum_list(items):\n",
    "    sum_numbers = 0\n",
    "    for x in items:\n",
    "        sum_numbers += x\n",
    "    return sum_numbers\n",
    "print(sum_list([45,68,1,2,-8]))"
   ]
  },
  {
   "cell_type": "code",
   "execution_count": null,
   "id": "0b3e3aeb",
   "metadata": {},
   "outputs": [],
   "source": [
    "a = [1, 2, 3, 4, 5, 6, 7, 8, 9, 10]\n",
    "b=[]\n",
    "for i in a :\n",
    "if i <= 5 :\n",
    "b.append(i)\n",
    "print(b)\n"
   ]
  }
 ],
 "metadata": {
  "kernelspec": {
   "display_name": "Python 3",
   "language": "python",
   "name": "python3"
  },
  "language_info": {
   "codemirror_mode": {
    "name": "ipython",
    "version": 3
   },
   "file_extension": ".py",
   "mimetype": "text/x-python",
   "name": "python",
   "nbconvert_exporter": "python",
   "pygments_lexer": "ipython3",
   "version": "3.8.8"
  }
 },
 "nbformat": 4,
 "nbformat_minor": 5
}
